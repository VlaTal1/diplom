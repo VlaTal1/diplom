{
 "cells": [
  {
   "cell_type": "markdown",
   "metadata": {},
   "source": [
    "# Init"
   ]
  },
  {
   "cell_type": "code",
   "execution_count": 22,
   "metadata": {},
   "outputs": [
    {
     "data": {
      "text/plain": [
       "True"
      ]
     },
     "execution_count": 22,
     "metadata": {},
     "output_type": "execute_result"
    }
   ],
   "source": [
    "import vertexai\n",
    "from vertexai.generative_models import GenerativeModel, SafetySetting\n",
    "import google.generativeai as genai\n",
    "from pprint import pprint as pp\n",
    "import json\n",
    "import time\n",
    "from dotenv import load_dotenv\n",
    "import re\n",
    "import os\n",
    "import math\n",
    "import ebooklib\n",
    "from ebooklib import epub\n",
    "from bs4 import BeautifulSoup\n",
    "import PyPDF2\n",
    "\n",
    "load_dotenv()"
   ]
  },
  {
   "cell_type": "code",
   "execution_count": 23,
   "metadata": {},
   "outputs": [],
   "source": [
    "genai.configure(api_key=os.getenv('GEMINI_API_KEY'))\n",
    "gemini15pro = genai.GenerativeModel(\"gemini-1.5-pro\")"
   ]
  },
  {
   "cell_type": "markdown",
   "metadata": {},
   "source": [
    "# Prompts"
   ]
  },
  {
   "cell_type": "markdown",
   "metadata": {},
   "source": [
    "## Splitted text prompt"
   ]
  },
  {
   "cell_type": "markdown",
   "metadata": {},
   "source": [
    "### Format"
   ]
  },
  {
   "cell_type": "code",
   "execution_count": 24,
   "metadata": {},
   "outputs": [],
   "source": [
    "split_text_format = '''{\n",
    "    question: str,\n",
    "    textPart: str,\n",
    "    answers: [\n",
    "        {\n",
    "            answer: str,\n",
    "            isCorrect: boolean,\n",
    "        }\n",
    "    ]\n",
    "}'''"
   ]
  },
  {
   "cell_type": "markdown",
   "metadata": {},
   "source": [
    "### Prompt"
   ]
  },
  {
   "cell_type": "code",
   "execution_count": 25,
   "metadata": {},
   "outputs": [],
   "source": [
    "split_text_prompt = '''Your task is to read a part of the book carefully and create only ONE question for the children who have read this part. \n",
    "Question should have 4 answer choices with 1 correct answer.\n",
    "\n",
    "Here are some topics to create a question:\n",
    "1. questions about the personalities of the characters\n",
    "2. questions about the appearance of the characters\n",
    "3. what the characters did in certain situations\n",
    "4. what the characters did in certain situations, what they thought or felt\n",
    "5. the attitude of some characters to other characters\n",
    "6. names of cities or localitions where the events took place\n",
    "7. what are the key characters\n",
    "\n",
    "Try to make question and answer choices more similar to the text itself.\n",
    "Avoid creating tricky questions.\n",
    "\n",
    "The question must be in this json format:\n",
    "```\n",
    "{}\n",
    "```\n",
    "\n",
    "The textPart field of the question should contain a part of the text from which you took the question\n",
    "\n",
    "Here is a part of a book:\n",
    "{}\n",
    "\n",
    "The question must be in the same language as the book\n",
    "'''"
   ]
  },
  {
   "cell_type": "markdown",
   "metadata": {},
   "source": [
    "# Utils"
   ]
  },
  {
   "cell_type": "markdown",
   "metadata": {},
   "source": [
    "## Get formatted splitted text prompt"
   ]
  },
  {
   "cell_type": "code",
   "execution_count": 26,
   "metadata": {},
   "outputs": [],
   "source": [
    "def get_split_text_prompt(text_part: str):\n",
    "    return split_text_prompt.format(split_text_format, text_part)"
   ]
  },
  {
   "cell_type": "markdown",
   "metadata": {},
   "source": [
    "## Remove new lines"
   ]
  },
  {
   "cell_type": "code",
   "execution_count": 27,
   "metadata": {},
   "outputs": [],
   "source": [
    "def remove_extra_newlines(text):\n",
    "    return re.sub(r'\\n+', '\\n', text)"
   ]
  },
  {
   "cell_type": "markdown",
   "metadata": {},
   "source": [
    "## Read PDF"
   ]
  },
  {
   "cell_type": "code",
   "execution_count": 28,
   "metadata": {},
   "outputs": [],
   "source": [
    "def read_pdf(file_path: str):\n",
    "    try:\n",
    "        with open(file_path, 'rb') as file:\n",
    "            reader = PyPDF2.PdfReader(file)\n",
    "            text = \"\"\n",
    "            for page_num in range(len(reader.pages)):\n",
    "                page = reader.pages[page_num]\n",
    "                text += page.extract_text()\n",
    "            return text\n",
    "    except Exception as e:\n",
    "        print(f\"An error occurred: {e}\")\n",
    "        return None"
   ]
  },
  {
   "cell_type": "markdown",
   "metadata": {},
   "source": [
    "## Read EPUB"
   ]
  },
  {
   "cell_type": "code",
   "execution_count": 29,
   "metadata": {},
   "outputs": [],
   "source": [
    "def read_epub(file_path):\n",
    "    book = epub.read_epub(file_path)\n",
    "    text_content = []\n",
    "\n",
    "    for item in book.get_items():\n",
    "        if item.get_type() == ebooklib.ITEM_DOCUMENT:\n",
    "            soup = BeautifulSoup(item.get_body_content(), 'html.parser')\n",
    "            text_content.append(soup.get_text())\n",
    "\n",
    "    text = '\\n'.join(text_content)\n",
    "    return remove_extra_newlines(text)"
   ]
  },
  {
   "cell_type": "markdown",
   "metadata": {},
   "source": [
    "## Split text"
   ]
  },
  {
   "cell_type": "code",
   "execution_count": 30,
   "metadata": {},
   "outputs": [],
   "source": [
    "def split_text_into_parts(text: str, num_parts: int):\n",
    "    paragraphs = re.split('\\n', text.strip())\n",
    "    \n",
    "    paragraphs_per_part = math.ceil(len(paragraphs) / (num_parts))\n",
    "    \n",
    "    parts = []\n",
    "    current_part = \"\"\n",
    "    \n",
    "    for i, paragraph in enumerate(paragraphs):\n",
    "        current_part += paragraph + \"\\n\"\n",
    "        if (i + 1) % paragraphs_per_part == 0 or (i + 1) == len(paragraphs):\n",
    "            parts.append(current_part.strip())\n",
    "            current_part = \"\"\n",
    "    \n",
    "    return parts"
   ]
  },
  {
   "cell_type": "markdown",
   "metadata": {},
   "source": [
    "## Split text with overlap"
   ]
  },
  {
   "cell_type": "code",
   "execution_count": 31,
   "metadata": {},
   "outputs": [],
   "source": [
    "def split_text_into_parts_with_overlap(text: str, num_parts: int):\n",
    "    sentences = re.split(r'(?<!\\w\\.\\w.)(?<![A-Z][a-z]\\.)(?<=\\.|\\?)\\s', text.strip())\n",
    "    \n",
    "    sentences_per_part = math.ceil(len(sentences) / num_parts)\n",
    "    \n",
    "    parts = []\n",
    "    for i in range(num_parts):\n",
    "        start_index = max(0, i * sentences_per_part - 1)\n",
    "        end_index = min(len(sentences), (i + 1) * sentences_per_part + 1)\n",
    "        \n",
    "        part = \" \".join(sentences[start_index:end_index])\n",
    "        parts.append(part.strip())\n",
    "    \n",
    "    return parts"
   ]
  },
  {
   "cell_type": "markdown",
   "metadata": {},
   "source": [
    "## Gemini generate"
   ]
  },
  {
   "cell_type": "code",
   "execution_count": 32,
   "metadata": {},
   "outputs": [],
   "source": [
    "generation_config = {\n",
    "    \"temperature\": 0.0,\n",
    "    \"response_mime_type\": \"application/json\"\n",
    "}\n",
    "\n",
    "\n",
    "def gemini_generate_answer(model: GenerativeModel, prompt: str):\n",
    "    response = model.generate_content(prompt,\n",
    "                                      generation_config=generation_config)\n",
    "\n",
    "    return response"
   ]
  },
  {
   "cell_type": "markdown",
   "metadata": {},
   "source": [
    "# Generate answers"
   ]
  },
  {
   "cell_type": "markdown",
   "metadata": {},
   "source": [
    "## Splitted text"
   ]
  },
  {
   "cell_type": "code",
   "execution_count": 33,
   "metadata": {},
   "outputs": [
    {
     "name": "stderr",
     "output_type": "stream",
     "text": [
      "c:\\home\\Unik\\diplom\\venv\\Lib\\site-packages\\ebooklib\\epub.py:1395: UserWarning: In the future version we will turn default option ignore_ncx to True.\n",
      "  warnings.warn('In the future version we will turn default option ignore_ncx to True.')\n",
      "c:\\home\\Unik\\diplom\\venv\\Lib\\site-packages\\ebooklib\\epub.py:1423: FutureWarning: This search incorrectly ignores the root element, and will be fixed in a future version.  If you rely on the current behaviour, change it to './/xmlns:rootfile[@media-type]'\n",
      "  for root_file in tree.findall('//xmlns:rootfile[@media-type]', namespaces={'xmlns': NAMESPACES['CONTAINERNS']}):\n"
     ]
    },
    {
     "name": "stdout",
     "output_type": "stream",
     "text": [
      "{\"question\": \"Хто написав казку \\\"Ведмідь (Сестричка Мелася)\\\"?\", \"textPart\": \"Ведмідь (Сестричка Мелася)\\nМарко Вовчок\", \"answers\": [{\"answer\": \"Марко Вовчок\", \"isCorrect\": true}, {\"answer\": \"Іван Франко\", \"isCorrect\": false}, {\"answer\": \"Леся Українка\", \"isCorrect\": false}, {\"answer\": \"Тарас Шевченко\", \"isCorrect\": false}]}\n",
      "================================\n",
      "{\"question\": \"Хто допомагав дідові Загайному доглядати за пасікою?\", \"textPart\": \"Оце ж козак старий – звали його Загайний, – погородивши загородь, постановив вуллів чимало – було їх там наче снопків на добрій ниві; і вже не полічу, мабуть, скільки багато тепер у його їх придбано, – мабуть, багато та й пребагато, бо рої там роїлися виборно так, що тільки не подивуйте у лиху годину, виборно роїлися! Було раз у раз чути: \\\"рій!\\\", \\\"летить!\\\", \\\"від поля!\\\", \\\"від гаю!\\\", То Михайло скрикне: \\\"рій!\\\", – а Мелася за ним, як у дзвоники перебиває: \\\"рій-рій! рій-рій!\\\", то знов Мелася зачастить: \\\"летить-летить, летить-летить!\\\", а Михайло біжить вивіряти, чи правда; то знов дід, плетучи кошик, наче духом вгадає, що рій надлітає, і йде його накривати. Страх якого діла було в пасіці! У кутку дід там заплів хижку з лози, Михайло покрив її соломою гарно, а Мелася промела коло дверей і сказала: \\\"Оце вже й зовсім теперки!\\\"\", \"answers\": [{\"answer\": \"Михайло та Мелася\", \"isCorrect\": true}, {\"answer\": \"Тільки Михайло\", \"isCorrect\": false}, {\"answer\": \"Тільки Мелася\", \"isCorrect\": false}, {\"answer\": \"Сусіди\", \"isCorrect\": false}]}\n",
      "================================\n",
      "{\"question\": \"Де знаходилися Михайло та Мелася, коли Михайло лежав на траві і дивився у небо?\", \"textPart\": \"Отже, одного вечора, втомившися, лежав Михайло на траві у пасіці і дививсь у небо. Вже зорі поскакували і тонесенький серпок місяцевий блищав над дубом, ніби зачепивсь за кучеряву гіллячку. Мелася, теж втомившися, лежала й ворушилася, дрімала й питалася, чого се досі діда нема.\", \"answers\": [{\"answer\": \"У саду.\", \"isCorrect\": false}, {\"answer\": \"У лісі.\", \"isCorrect\": false}, {\"answer\": \"На пасіці.\", \"isCorrect\": true}, {\"answer\": \"У селі.\", \"isCorrect\": false}]}\n",
      "================================\n",
      "{\"question\": \"Що робив ведмідь у тексті?\", \"textPart\": \"А ведмідь, наче господар, посува та оглядає, де кращий вулій, солодший мед, і як впав йому в око такий, зараз він лапу патлату туди, видира і лакомиться.\", \"answers\": [{\"answer\": \"Спав біля вулика.\", \"isCorrect\": false}, {\"answer\": \"Шукав та їв мед.\", \"isCorrect\": true}, {\"answer\": \"Грався з дівчинкою.\", \"isCorrect\": false}, {\"answer\": \"Тікав від Михайла.\", \"isCorrect\": false}]}\n",
      "================================\n",
      "{\"question\": \"Хто зачинив Михайла у хижці?\", \"textPart\": \"Маленькі рученятка вхопилися за сонного брата, трохи не вломилися, а піднесли його трохи й сунули у хижку і зачинили там.\\n– Що таке? Що таке? – скрикнув молодий козак, прокинувшись, може, трохи і злякавшись, і потрушуючи двері. – Відчиніть-бо! Що таке?\\n– Братіку коханий, нічого – се я, се я, – одказував йому голосочок.\\n– Відчини-бо, Меласю, – скрикнув знов Михайло, – нехай я дверей не псую!\", \"answers\": [{\"answer\": \"Михайло\", \"isCorrect\": false}, {\"answer\": \"Ведмідь\", \"isCorrect\": false}, {\"answer\": \"Мелашка\", \"isCorrect\": true}, {\"answer\": \"Автор не вказує\", \"isCorrect\": false}]}\n",
      "================================\n",
      "{\"question\": \"Хто втік до гаю, коли Михайло підвів Меласю?\", \"textPart\": \"Тут такий розкотивсь викрик голосненький, та дзвінкий, та тонкий, що Михайло метнувсь назад, а ведмідь чимдуж покотив до гаю, вгинаючи під ступою землю. І як Михайло схаменувсь, і підвів малу сестричку, і розпитав, вже не було нікого ані видко, ані чутно, і дарма вони насторожали вуха, і здержувалися дихати, прислухаючись та сидячи укупі близько.\", \"answers\": [{\"answer\": \"Михайло\", \"isCorrect\": false}, {\"answer\": \"Мелася\", \"isCorrect\": false}, {\"answer\": \"Ведмідь\", \"isCorrect\": true}, {\"answer\": \"Ніхто\", \"isCorrect\": false}]}\n",
      "================================\n",
      "{\"question\": \"Як Мелася зреагувала на повернення діда?\", \"textPart\": \"– Ой-ой! Ой-ой! – одказує Мелася й пригортається ближче та тісніш, як о скарбу одрятованого, знайденого.\\nМісяць вже ледве легенько світив, зорі вже ледве помаленьку блискали, коли вони зачули пісню козацьку, наче дзвінок розбитий, або струну перебиту, і забачили удалині постать людську – се дід ішов та співав. Зараз вони до його назустріч, а він сміється та й каже: \\\"А що, дітки, знудилися, мабуть, без старого діда, ге? Сон, мабуть, неспокійний мали, ге? Не можна, не можна було мені повернутись раніш, товариша давнього стрів – забарився.\", \"answers\": [{\"answer\": \"Зраділа і міцно обійняла його.\", \"isCorrect\": true}, {\"answer\": \"Злякалася і почала плакати.\", \"isCorrect\": false}, {\"answer\": \"Вона спала і нічого не помітила.\", \"isCorrect\": false}, {\"answer\": \"Розсердилася, що він так довго не повертався.\", \"isCorrect\": false}]}\n",
      "================================\n",
      "{\"question\": \"Хто, за словами Меласі, був у пасіці?\", \"textPart\": \"– Діду! Діду! – каже Мелася, – у нас ведмідь був.\\n– От, діду, – говорить Михайло, – Мелася завіряє, що ведмідь був у пасіці.\", \"answers\": [{\"answer\": \"Ведмідь\", \"isCorrect\": true}, {\"answer\": \"Вовк\", \"isCorrect\": false}, {\"answer\": \"Лисиця\", \"isCorrect\": false}, {\"answer\": \"Заєць\", \"isCorrect\": false}]}\n",
      "================================\n",
      "{\"question\": \"Яке почуття відчувала Меласія, коли згадувала про те, як брат її захищав?\", \"textPart\": \"А друге, то, мабуть, уважала Мелася за диво потішне й не нікчемне, бо як згадувала про його, зараз червоніла і зараз сміялася веселенько і, може, трохи хвастливенько.\", \"answers\": [{\"answer\": \"Захоплення та гордість\", \"isCorrect\": false}, {\"answer\": \"Сором та збентеження\", \"isCorrect\": false}, {\"answer\": \"Радість та веселість, можливо, з ноткою хвастощів\", \"isCorrect\": true}, {\"answer\": \"Страх та тривогу\", \"isCorrect\": false}]}\n",
      "================================\n"
     ]
    }
   ],
   "source": [
    "text = read_epub('books/vovchok-marko-vedmid-sestrychka-melasia1976.epub')\n",
    "parts = split_text_into_parts(text, 10)\n",
    "for part in parts:\n",
    "    prompt = get_split_text_prompt(part)\n",
    "    response = gemini_generate_answer(gemini15pro, prompt)  \n",
    "    print(response.text)\n",
    "    print(\"================================\")"
   ]
  },
  {
   "cell_type": "code",
   "execution_count": 34,
   "metadata": {},
   "outputs": [
    {
     "name": "stdout",
     "output_type": "stream",
     "text": [
      "9\n"
     ]
    }
   ],
   "source": [
    "print(len(parts))"
   ]
  },
  {
   "cell_type": "code",
   "execution_count": 47,
   "metadata": {},
   "outputs": [
    {
     "name": "stdout",
     "output_type": "stream",
     "text": [
      "{\n",
      "    \"question\": \"Яке почуття відчувала Меласія, коли згадувала про те, як брат її захищав?\",\n",
      "    \"textPart\": \"А друге, то, мабуть, уважала Мелася за диво потішне й не нікчемне, бо як згадувала про його, зараз червоніла і зараз сміялася веселенько і, може, трохи хвастливенько.\",\n",
      "    \"answers\": [\n",
      "        {\n",
      "            \"answer\": \"Захоплення та гордість\",\n",
      "            \"isCorrect\": false\n",
      "        },\n",
      "        {\n",
      "            \"answer\": \"Сором та збентеження\",\n",
      "            \"isCorrect\": false\n",
      "        },\n",
      "        {\n",
      "            \"answer\": \"Радість та веселість, можливо, з ноткою хвастощів\",\n",
      "            \"isCorrect\": true\n",
      "        },\n",
      "        {\n",
      "            \"answer\": \"Страх та тривогу\",\n",
      "            \"isCorrect\": false\n",
      "        }\n",
      "    ]\n",
      "}\n"
     ]
    }
   ],
   "source": [
    "data = json.loads(response.text)\n",
    "formatted_json = json.dumps(data, indent=4, ensure_ascii=False)\n",
    "print(formatted_json)"
   ]
  },
  {
   "cell_type": "code",
   "execution_count": 35,
   "metadata": {},
   "outputs": [],
   "source": [
    "# text = read_epub('books/vovchok-marko-vedmid-sestrychka-melasia1976.epub')\n",
    "# parts = split_text_into_parts(text, 10)\n",
    "# for part in parts:\n",
    "#     print(part)\n",
    "#     print(\"================================\")"
   ]
  },
  {
   "cell_type": "code",
   "execution_count": 36,
   "metadata": {},
   "outputs": [],
   "source": [
    "# text = read_epub('books/vovchok-marko-vedmid-sestrychka-melasia1976.epub')\n",
    "# parts = split_text_into_parts_with_overlap(text, 10)\n",
    "# for part in parts:\n",
    "#     print(part)\n",
    "#     print(\"================================\")"
   ]
  }
 ],
 "metadata": {
  "kernelspec": {
   "display_name": "venv",
   "language": "python",
   "name": "python3"
  },
  "language_info": {
   "codemirror_mode": {
    "name": "ipython",
    "version": 3
   },
   "file_extension": ".py",
   "mimetype": "text/x-python",
   "name": "python",
   "nbconvert_exporter": "python",
   "pygments_lexer": "ipython3",
   "version": "3.12.6"
  }
 },
 "nbformat": 4,
 "nbformat_minor": 2
}
