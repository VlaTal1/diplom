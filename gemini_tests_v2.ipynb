{
 "cells": [
  {
   "cell_type": "markdown",
   "metadata": {},
   "source": [
    "# Init"
   ]
  },
  {
   "cell_type": "code",
   "execution_count": null,
   "metadata": {
    "ExecuteTime": {
     "end_time": "2024-11-03T11:18:39.253101Z",
     "start_time": "2024-11-03T11:18:39.248308Z"
    }
   },
   "outputs": [],
   "source": [
    "import vertexai\n",
    "from vertexai.generative_models import GenerativeModel, SafetySetting\n",
    "from pprint import pprint as pp\n",
    "import json\n",
    "import time\n",
    "import re\n",
    "import math\n",
    "import ebooklib\n",
    "from ebooklib import epub\n",
    "from bs4 import BeautifulSoup\n",
    "import PyPDF2"
   ]
  },
  {
   "cell_type": "code",
   "execution_count": 56,
   "metadata": {
    "ExecuteTime": {
     "end_time": "2024-11-03T11:13:18.845149Z",
     "start_time": "2024-11-03T11:13:18.840206Z"
    }
   },
   "outputs": [],
   "source": [
    "vertexai.init(project='diplom-440610', location='us-central1')"
   ]
  },
  {
   "cell_type": "code",
   "execution_count": null,
   "metadata": {
    "ExecuteTime": {
     "end_time": "2024-11-03T11:19:39.948883Z",
     "start_time": "2024-11-03T11:19:39.944392Z"
    }
   },
   "outputs": [],
   "source": [
    "gemini15pro = GenerativeModel(\"gemini-2.0-flash\")"
   ]
  },
  {
   "cell_type": "markdown",
   "metadata": {},
   "source": [
    "# Prompts"
   ]
  },
  {
   "cell_type": "markdown",
   "metadata": {},
   "source": [
    "## Splitted text prompt"
   ]
  },
  {
   "cell_type": "markdown",
   "metadata": {},
   "source": [
    "### Format"
   ]
  },
  {
   "cell_type": "code",
   "execution_count": 58,
   "metadata": {
    "ExecuteTime": {
     "end_time": "2024-11-03T11:13:19.098581Z",
     "start_time": "2024-11-03T11:13:19.094029Z"
    }
   },
   "outputs": [],
   "source": [
    "split_text_format = '''{\n",
    "    question: str,\n",
    "    textPart: str,\n",
    "    answers: [\n",
    "        {\n",
    "            answer: str,\n",
    "            isCorrect: boolean,\n",
    "        }\n",
    "    ]\n",
    "}'''"
   ]
  },
  {
   "cell_type": "markdown",
   "metadata": {},
   "source": [
    "### Prompt"
   ]
  },
  {
   "cell_type": "code",
   "execution_count": 59,
   "metadata": {
    "ExecuteTime": {
     "end_time": "2024-11-03T11:13:19.113019Z",
     "start_time": "2024-11-03T11:13:19.109155Z"
    }
   },
   "outputs": [],
   "source": [
    "split_text_prompt = '''Your task is to read a part of the book carefully and create only ONE question for the children who have read this part. \n",
    "Question should have 4 answer choices with 1 correct answer.\n",
    "\n",
    "Here are some topics to create a question:\n",
    "1. questions about the personalities of the characters\n",
    "2. questions about the appearance of the characters\n",
    "3. what the characters did in certain situations\n",
    "4. what the characters did in certain situations, what they thought or felt\n",
    "5. the attitude of some characters to other characters\n",
    "6. names of cities or localitions where the events took place\n",
    "7. what are the key characters\n",
    "\n",
    "Try to make question and answer choices more similar to the text itself.\n",
    "Avoid creating tricky questions.\n",
    "\n",
    "The question must be in this json format:\n",
    "```\n",
    "{}\n",
    "```\n",
    "\n",
    "The textPart field of the question should contain a part of the text from which you took the question\n",
    "\n",
    "Here is a part of a book:\n",
    "{}\n",
    "\n",
    "The question must be in the same language as the book\n",
    "'''"
   ]
  },
  {
   "cell_type": "markdown",
   "metadata": {},
   "source": [
    "# Utils"
   ]
  },
  {
   "cell_type": "markdown",
   "metadata": {},
   "source": [
    "## Get formatted splitted text prompt"
   ]
  },
  {
   "cell_type": "code",
   "execution_count": 60,
   "metadata": {
    "ExecuteTime": {
     "end_time": "2024-11-03T11:13:19.141129Z",
     "start_time": "2024-11-03T11:13:19.135848Z"
    }
   },
   "outputs": [],
   "source": [
    "def get_split_text_prompt(text_part: str):\n",
    "    return split_text_prompt.format(split_text_format, text_part)"
   ]
  },
  {
   "cell_type": "markdown",
   "metadata": {},
   "source": [
    "## Remove new lines"
   ]
  },
  {
   "cell_type": "code",
   "execution_count": 61,
   "metadata": {},
   "outputs": [],
   "source": [
    "def remove_extra_newlines(text):\n",
    "    return re.sub(r'\\n+', '\\n', text)"
   ]
  },
  {
   "cell_type": "markdown",
   "metadata": {},
   "source": [
    "## Read PDF"
   ]
  },
  {
   "cell_type": "code",
   "execution_count": 62,
   "metadata": {},
   "outputs": [],
   "source": [
    "def read_pdf(file_path: str):\n",
    "    try:\n",
    "        with open(file_path, 'rb') as file:\n",
    "            reader = PyPDF2.PdfReader(file)\n",
    "            text = \"\"\n",
    "            for page_num in range(len(reader.pages)):\n",
    "                page = reader.pages[page_num]\n",
    "                text += page.extract_text()\n",
    "            return text\n",
    "    except Exception as e:\n",
    "        print(f\"An error occurred: {e}\")\n",
    "        return None"
   ]
  },
  {
   "cell_type": "markdown",
   "metadata": {},
   "source": [
    "## Read EPUB"
   ]
  },
  {
   "cell_type": "code",
   "execution_count": 63,
   "metadata": {},
   "outputs": [],
   "source": [
    "def read_epub(file_path):\n",
    "    book = epub.read_epub(file_path)\n",
    "    text_content = []\n",
    "\n",
    "    for item in book.get_items():\n",
    "        if item.get_type() == ebooklib.ITEM_DOCUMENT:\n",
    "            soup = BeautifulSoup(item.get_body_content(), 'html.parser')\n",
    "            text_content.append(soup.get_text())\n",
    "\n",
    "    text = '\\n'.join(text_content)\n",
    "    return remove_extra_newlines(text)"
   ]
  },
  {
   "cell_type": "markdown",
   "metadata": {},
   "source": [
    "## Split text"
   ]
  },
  {
   "cell_type": "code",
   "execution_count": 64,
   "metadata": {},
   "outputs": [],
   "source": [
    "def split_text_into_parts(text: str, num_parts: int):\n",
    "    paragraphs = re.split('\\n', text.strip())\n",
    "    \n",
    "    paragraphs_per_part = math.ceil(len(paragraphs) / (num_parts))\n",
    "    \n",
    "    parts = []\n",
    "    current_part = \"\"\n",
    "    \n",
    "    for i, paragraph in enumerate(paragraphs):\n",
    "        current_part += paragraph + \"\\n\"\n",
    "        if (i + 1) % paragraphs_per_part == 0 or (i + 1) == len(paragraphs):\n",
    "            parts.append(current_part.strip())\n",
    "            current_part = \"\"\n",
    "    \n",
    "    return parts"
   ]
  },
  {
   "cell_type": "markdown",
   "metadata": {},
   "source": [
    "## Split text with overlap"
   ]
  },
  {
   "cell_type": "code",
   "execution_count": 65,
   "metadata": {},
   "outputs": [],
   "source": [
    "def split_text_into_parts_with_overlap(text: str, num_parts: int):\n",
    "    sentences = re.split(r'(?<!\\w\\.\\w.)(?<![A-Z][a-z]\\.)(?<=\\.|\\?)\\s', text.strip())\n",
    "    \n",
    "    sentences_per_part = math.ceil(len(sentences) / num_parts)\n",
    "    \n",
    "    parts = []\n",
    "    for i in range(num_parts):\n",
    "        start_index = max(0, i * sentences_per_part - 1)\n",
    "        end_index = min(len(sentences), (i + 1) * sentences_per_part + 1)\n",
    "        \n",
    "        part = \" \".join(sentences[start_index:end_index])\n",
    "        parts.append(part.strip())\n",
    "    \n",
    "    return parts"
   ]
  },
  {
   "cell_type": "markdown",
   "metadata": {},
   "source": [
    "## Gemini generate"
   ]
  },
  {
   "cell_type": "code",
   "execution_count": 66,
   "metadata": {},
   "outputs": [],
   "source": [
    "generation_config = {\n",
    "    \"temperature\": 0.0,\n",
    "    \"response_mime_type\": \"application/json\"\n",
    "}\n",
    "\n",
    "safety_settings = [\n",
    "    SafetySetting(\n",
    "        category=SafetySetting.HarmCategory.HARM_CATEGORY_HATE_SPEECH,\n",
    "        threshold=SafetySetting.HarmBlockThreshold.BLOCK_NONE\n",
    "    ),\n",
    "    SafetySetting(\n",
    "        category=SafetySetting.HarmCategory.HARM_CATEGORY_DANGEROUS_CONTENT,\n",
    "        threshold=SafetySetting.HarmBlockThreshold.BLOCK_NONE\n",
    "    ),\n",
    "    SafetySetting(\n",
    "        category=SafetySetting.HarmCategory.HARM_CATEGORY_SEXUALLY_EXPLICIT,\n",
    "        threshold=SafetySetting.HarmBlockThreshold.BLOCK_NONE\n",
    "    ),\n",
    "    SafetySetting(\n",
    "        category=SafetySetting.HarmCategory.HARM_CATEGORY_HARASSMENT,\n",
    "        threshold=SafetySetting.HarmBlockThreshold.BLOCK_NONE\n",
    "    ),\n",
    "]\n",
    "\n",
    "\n",
    "def gemini_generate_answer(model: GenerativeModel, prompt: str):\n",
    "    response = model.generate_content(prompt,\n",
    "                                      generation_config=generation_config,\n",
    "                                      safety_settings=safety_settings)\n",
    "\n",
    "    return response"
   ]
  },
  {
   "cell_type": "markdown",
   "metadata": {},
   "source": [
    "# Generate answers"
   ]
  },
  {
   "cell_type": "markdown",
   "metadata": {},
   "source": [
    "## Splitted text"
   ]
  },
  {
   "cell_type": "code",
   "execution_count": 67,
   "metadata": {
    "ExecuteTime": {
     "end_time": "2024-11-03T11:15:59.715237Z",
     "start_time": "2024-11-03T11:15:50.813203Z"
    }
   },
   "outputs": [
    {
     "name": "stderr",
     "output_type": "stream",
     "text": [
      "c:\\home\\Unik\\diplom\\venv\\Lib\\site-packages\\ebooklib\\epub.py:1395: UserWarning: In the future version we will turn default option ignore_ncx to True.\n",
      "  warnings.warn('In the future version we will turn default option ignore_ncx to True.')\n",
      "c:\\home\\Unik\\diplom\\venv\\Lib\\site-packages\\ebooklib\\epub.py:1423: FutureWarning: This search incorrectly ignores the root element, and will be fixed in a future version.  If you rely on the current behaviour, change it to './/xmlns:rootfile[@media-type]'\n",
      "  for root_file in tree.findall('//xmlns:rootfile[@media-type]', namespaces={'xmlns': NAMESPACES['CONTAINERNS']}):\n"
     ]
    },
    {
     "name": "stdout",
     "output_type": "stream",
     "text": [
      "{\n",
      "\"question\": \"Від кого прийшов лист Меласці?\",\n",
      "\"textPart\": \"Від Падолиста:\",\n",
      "\"answers\": [\n",
      "{\n",
      "\"answer\": \"Від матері\",\n",
      "\"isCorrect\": false\n",
      "},\n",
      "{\n",
      "\"answer\": \"Від Падолиста\",\n",
      "\"isCorrect\": true\n",
      "},\n",
      "{\n",
      "\"answer\": \"Від брата\",\n",
      "\"isCorrect\": false\n",
      "},\n",
      "{\n",
      "\"answer\": \"Від бабусі\",\n",
      "\"isCorrect\": false\n",
      "}\n",
      "]\n",
      "}\n",
      "\n",
      "================================\n",
      "{\n",
      "    \"question\": \"Як звали козака, якому належала пасіка?\",\n",
      "    \"textPart\": \"Оце ж козак старий – звали його Загайний, – погородивши загородь, постановив вуллів чимало – було їх там наче снопків на добрій ниві; і вже не полічу, мабуть, скільки багато тепер у його їх придбано, – мабуть, багато та й пребагато, бо рої там роїлися виборно так, що тільки не подивуйте у лиху годину, виборно роїлися!\",\n",
      "    \"answers\": [\n",
      "        {\n",
      "            \"answer\": \"Загайний\",\n",
      "            \"isCorrect\": true\n",
      "        },\n",
      "        {\n",
      "            \"answer\": \"Михайло\",\n",
      "            \"isCorrect\": false\n",
      "        },\n",
      "        {\n",
      "            \"answer\": \"Меласій\",\n",
      "            \"isCorrect\": false\n",
      "        },\n",
      "        {\n",
      "            \"answer\": \"Не згадується у тексті\",\n",
      "            \"isCorrect\": false\n",
      "        }\n",
      "    ]\n",
      "}\n",
      "\n",
      "\n",
      "================================\n",
      "{\n",
      "\"question\": \"Де відбуваються події, описані в уривку?\",\n",
      "\"textPart\": \"Отже, одного вечора, втомившися, лежав Михайло на траві у пасіці і дививсь у небо. Вже зорі поскакували і тонесенький серпок місяцевий блищав над дубом, ніби зачепивсь за кучеряву гіллячку. Мелася, теж втомившися, лежала й ворушилася, дрімала й питалася, чого се досі діда нема. А діда як нема то й нема, – і вдалині не видко. \\nПішов дід того вечора у село та чогось дуже довго забаривсь у селі, бо вже ніч глуха, зорі зорять, серпок високо підбився, Михайло заснув, а діда усе нема! І не чути – усе тихо! Коли ж разом земля загула від гаю, і щось важке наближається до пасіки. Таке важке, таке важке, таке важке, що й не зважити на вазі! От воно – от воно! Поронило лісу, суне поміж вуллів, й вулля валить, і квітки давить, і рожу й калину ламле, і дуба кріпкого втрухнуло минаючи – господи-світе! Що ж ви думаєте? Страшенний, патлатий, важкий ведмідь одвідав!\",\n",
      "\"answers\": [\n",
      "{\n",
      "\"answer\": \"У місті\",\n",
      "\"isCorrect\": false\n",
      "},\n",
      "{\n",
      "\"answer\": \"У лісі\",\n",
      "\"isCorrect\": false\n",
      "},\n",
      "{\n",
      "\"answer\": \"На пасіці\",\n",
      "\"isCorrect\": true\n",
      "},\n",
      "{\n",
      "\"answer\": \"У селі\",\n",
      "\"isCorrect\": false\n",
      "}\n",
      "]\n",
      "}\n",
      "\n",
      "================================\n",
      "{\"question\": \"Що робив ведмідь, коли зайшов до хатини?\", \"textPart\": \"А ведмідь, наче господар, посува та оглядає, де кращий вулій, солодший мед, і як впав йому в око такий, зараз він лапу патлату туди, видира і лакомиться.\", \"answers\": [{\"answer\": \"Спав.\", \"isCorrect\": false}, {\"answer\": \"Шукав найкращий вулик з медом.\", \"isCorrect\": true}, {\"answer\": \"Грався з дівчинкою.\", \"isCorrect\": false}, {\"answer\": \"Плакав.\", \"isCorrect\": false}]}\n",
      "\n",
      "================================\n",
      "{\"question\": \"Хто прокинувся від шуму і почав гукати?\", \"textPart\": \"– Що таке? Що таке? – скрикнув молодий козак, прокинувшись, може, трохи і злякавшись, і потрушуючи двері. – Відчиніть-бо! Що таке?\\n– Братіку коханий, нічого – се я, се я, – одказував йому голосочок.\\n– Відчини-бо, Меласю, – скрикнув знов Михайло, – нехай я дверей не псую!\", \"answers\": [{\"answer\": \"ведмідь\", \"isCorrect\": false}, {\"answer\": \"Михайло\", \"isCorrect\": true}, {\"answer\": \"Меласія\", \"isCorrect\": false}, {\"answer\": \"автор\", \"isCorrect\": false}]}\n",
      "\n",
      "================================\n",
      "{\"question\": \"Хто злякав Меласю?\", \"textPart\": \"І знов потрушує дверима.\\n– Братіку, – каже маленька, – братіку! – і оглядається округи, і бачить: ведмідь устав, і слухає, і наче чигає на неї, і от наче засміявсь – цокнув зубами білими. – \\\"Пусти, пусти, Меласю!\\\" – кричить Михайло, і двері відскочили, маленька, як снопок, впала, а ведмідь знов цокнув білими зубами.\\nТут такий розкотивсь викрик голосненький, та дзвінкий, та тонкий, що Михайло метнувсь назад, а ведмідь чимдуж покотив до гаю, вгинаючи під ступою землю. І як Михайло схаменувсь, і підвів малу сестричку, і розпитав, вже не було нікого ані видко, ані чутно, і дарма вони насторожали вуха, і здержувалися дихати, прислухаючись та сидячи укупі близько. Тихо усе було. Місяць світить, зорі сяють.\\n– Розкажи ж бо, Меласю, розкажи усе мені, усю подробицю, як було, – говорив Михайло до сестрички.\\n– Ні, ні! О, се ні! Ще боюся! – одказувала Мелася.\\n– Яка ж ти жахлива, Меласю! – каже Михайло, всміхаючись.\", \"answers\": [{\"answer\": \"Михайло\", \"isCorrect\": false}, {\"answer\": \"Ведмідь\", \"isCorrect\": true}, {\"answer\": \"Ніхто\", \"isCorrect\": false}, {\"answer\": \"Невідомо\", \"isCorrect\": false}]}\n",
      "\n",
      "================================\n",
      "{\n",
      "    \"question\": \"Хто співав козацьку пісню, яку почули діти?\",\n",
      "    \"textPart\": \"Місяць вже ледве легенько світив, зорі вже ледве помаленьку блискали, коли вони зачули пісню козацьку, наче дзвінок розбитий, або струну перебиту, і забачили удалині постать людську – се дід ішов та співав.\",\n",
      "    \"answers\": [\n",
      "        {\n",
      "            \"answer\": \"Мелася\",\n",
      "            \"isCorrect\": false\n",
      "        },\n",
      "        {\n",
      "            \"answer\": \"Дід\",\n",
      "            \"isCorrect\": true\n",
      "        },\n",
      "        {\n",
      "            \"answer\": \"Козак\",\n",
      "            \"isCorrect\": false\n",
      "        },\n",
      "        {\n",
      "            \"answer\": \"Турок\",\n",
      "            \"isCorrect\": false\n",
      "        }\n",
      "    ]\n",
      "}\n",
      "\n",
      "================================\n",
      "{\"question\": \"Хто з героїв хотів купити рушницю?\", \"textPart\": \"– А щоб ти не діждав вже довіку меду й покуштувати, лихий патлачу! – проклинав дід, підносячи та ставлячи вуллі, як треба, – бач якого наробив клопоту та шкоди! – а Михайло, помагаючи дідові, радив рушницю придбати добру на прийшлі часи і в думці вже націлював у ведмедя страшного з великою втіхою. А Мелася малесенька, ходячи за обома їми услідок, удесяте оповідала, як той усе трощив і валив, як покачувавсь і цокав зубами білими, і як мед вчищав, і як наближувавсь-наближувавсь… ближче-ближче… а в самої Меласі оченятка блищали й сяяли пломенистій, ніж ті зірочки у небі, що вже їх виблиск згасав та згасав, бо вже починало дніти — хутко й стяга рожева запалала від схід сонця.\", \"answers\": [{\"answer\": \"дідусь\", \"isCorrect\": false}, {\"answer\": \"Михайло\", \"isCorrect\": true}, {\"answer\": \"Меласія\", \"isCorrect\": false}, {\"answer\": \"ведмідь\", \"isCorrect\": false}]}\n",
      "\n",
      "================================\n",
      "{\"question\": \"Чого боявся Михайло, що може статися з Меласею?\", \"textPart\": \"І лягав спати Михайло, може, не раз з потайною надією, що от ведмідь знов одвідає, і вночі не спав, прислухавсь, і бравсь за рушницю, що собі покупив – тільки ще досі, чутно, не діждав патлатого він гостя-одвідача.\", \"answers\": [{\"answer\": \"Що її образить хтось із дітей.\", \"isCorrect\": false}, {\"answer\": \"Що вона заблукає в лісі.\", \"isCorrect\": false}, {\"answer\": \"Що на неї нападе ведмідь.\", \"isCorrect\": true}, {\"answer\": \"Що вона захворіє.\", \"isCorrect\": false}]}\n",
      "\n",
      "================================\n"
     ]
    }
   ],
   "source": [
    "text = read_epub('books/vovchok-marko-vedmid-sestrychka-melasia1976.epub')\n",
    "parts = split_text_into_parts(text, 10)\n",
    "for part in parts:\n",
    "    prompt = get_split_text_prompt(part)\n",
    "    response = gemini_generate_answer(gemini15pro, prompt)  \n",
    "    print(response.text)\n",
    "    print(\"================================\")\n",
    "    time.sleep(30)"
   ]
  },
  {
   "cell_type": "code",
   "execution_count": 70,
   "metadata": {},
   "outputs": [
    {
     "name": "stdout",
     "output_type": "stream",
     "text": [
      "9\n"
     ]
    }
   ],
   "source": [
    "print(len(parts))"
   ]
  },
  {
   "cell_type": "code",
   "execution_count": 68,
   "metadata": {},
   "outputs": [],
   "source": [
    "# text = read_epub('books/vovchok-marko-vedmid-sestrychka-melasia1976.epub')\n",
    "# parts = split_text_into_parts(text, 10)\n",
    "# for part in parts:\n",
    "#     print(part)\n",
    "#     print(\"================================\")"
   ]
  },
  {
   "cell_type": "code",
   "execution_count": 69,
   "metadata": {},
   "outputs": [],
   "source": [
    "# text = read_epub('books/vovchok-marko-vedmid-sestrychka-melasia1976.epub')\n",
    "# parts = split_text_into_parts_with_overlap(text, 10)\n",
    "# for part in parts:\n",
    "#     print(part)\n",
    "#     print(\"================================\")"
   ]
  }
 ],
 "metadata": {
  "kernelspec": {
   "display_name": "venv",
   "language": "python",
   "name": "python3"
  },
  "language_info": {
   "codemirror_mode": {
    "name": "ipython",
    "version": 3
   },
   "file_extension": ".py",
   "mimetype": "text/x-python",
   "name": "python",
   "nbconvert_exporter": "python",
   "pygments_lexer": "ipython3",
   "version": "3.12.6"
  }
 },
 "nbformat": 4,
 "nbformat_minor": 2
}
